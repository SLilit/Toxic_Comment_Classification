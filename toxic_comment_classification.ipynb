{
 "cells": [
  {
   "cell_type": "code",
   "execution_count": 1,
   "metadata": {},
   "outputs": [
    {
     "data": {
      "text/html": [
       "<div>\n",
       "<style>\n",
       "    .dataframe thead tr:only-child th {\n",
       "        text-align: right;\n",
       "    }\n",
       "\n",
       "    .dataframe thead th {\n",
       "        text-align: left;\n",
       "    }\n",
       "\n",
       "    .dataframe tbody tr th {\n",
       "        vertical-align: top;\n",
       "    }\n",
       "</style>\n",
       "<table border=\"1\" class=\"dataframe\">\n",
       "  <thead>\n",
       "    <tr style=\"text-align: right;\">\n",
       "      <th></th>\n",
       "      <th>id</th>\n",
       "      <th>comment_text</th>\n",
       "      <th>toxic</th>\n",
       "      <th>severe_toxic</th>\n",
       "      <th>obscene</th>\n",
       "      <th>threat</th>\n",
       "      <th>insult</th>\n",
       "      <th>identity_hate</th>\n",
       "    </tr>\n",
       "  </thead>\n",
       "  <tbody>\n",
       "    <tr>\n",
       "      <th>0</th>\n",
       "      <td>0000997932d777bf</td>\n",
       "      <td>Explanation\\r\\nWhy the edits made under my use...</td>\n",
       "      <td>0</td>\n",
       "      <td>0</td>\n",
       "      <td>0</td>\n",
       "      <td>0</td>\n",
       "      <td>0</td>\n",
       "      <td>0</td>\n",
       "    </tr>\n",
       "    <tr>\n",
       "      <th>1</th>\n",
       "      <td>000103f0d9cfb60f</td>\n",
       "      <td>D'aww! He matches this background colour I'm s...</td>\n",
       "      <td>0</td>\n",
       "      <td>0</td>\n",
       "      <td>0</td>\n",
       "      <td>0</td>\n",
       "      <td>0</td>\n",
       "      <td>0</td>\n",
       "    </tr>\n",
       "    <tr>\n",
       "      <th>2</th>\n",
       "      <td>000113f07ec002fd</td>\n",
       "      <td>Hey man, I'm really not trying to edit war. It...</td>\n",
       "      <td>0</td>\n",
       "      <td>0</td>\n",
       "      <td>0</td>\n",
       "      <td>0</td>\n",
       "      <td>0</td>\n",
       "      <td>0</td>\n",
       "    </tr>\n",
       "    <tr>\n",
       "      <th>3</th>\n",
       "      <td>0001b41b1c6bb37e</td>\n",
       "      <td>\"\\r\\nMore\\r\\nI can't make any real suggestions...</td>\n",
       "      <td>0</td>\n",
       "      <td>0</td>\n",
       "      <td>0</td>\n",
       "      <td>0</td>\n",
       "      <td>0</td>\n",
       "      <td>0</td>\n",
       "    </tr>\n",
       "    <tr>\n",
       "      <th>4</th>\n",
       "      <td>0001d958c54c6e35</td>\n",
       "      <td>You, sir, are my hero. Any chance you remember...</td>\n",
       "      <td>0</td>\n",
       "      <td>0</td>\n",
       "      <td>0</td>\n",
       "      <td>0</td>\n",
       "      <td>0</td>\n",
       "      <td>0</td>\n",
       "    </tr>\n",
       "  </tbody>\n",
       "</table>\n",
       "</div>"
      ],
      "text/plain": [
       "                 id                                       comment_text  toxic  \\\n",
       "0  0000997932d777bf  Explanation\\r\\nWhy the edits made under my use...      0   \n",
       "1  000103f0d9cfb60f  D'aww! He matches this background colour I'm s...      0   \n",
       "2  000113f07ec002fd  Hey man, I'm really not trying to edit war. It...      0   \n",
       "3  0001b41b1c6bb37e  \"\\r\\nMore\\r\\nI can't make any real suggestions...      0   \n",
       "4  0001d958c54c6e35  You, sir, are my hero. Any chance you remember...      0   \n",
       "\n",
       "   severe_toxic  obscene  threat  insult  identity_hate  \n",
       "0             0        0       0       0              0  \n",
       "1             0        0       0       0              0  \n",
       "2             0        0       0       0              0  \n",
       "3             0        0       0       0              0  \n",
       "4             0        0       0       0              0  "
      ]
     },
     "execution_count": 1,
     "metadata": {},
     "output_type": "execute_result"
    }
   ],
   "source": [
    "import numpy as np\n",
    "import pandas as pd\n",
    "import matplotlib.pyplot as plt\n",
    "%matplotlib inline\n",
    "\n",
    "data = pd.read_csv('C:/Users/DENVER/Udacity/machine-learning\\projects/toxic-comment-classification/train.csv')#load the dataset\n",
    "test_data = pd.read_csv('C:/Users/DENVER/Udacity/machine-learning\\projects/toxic-comment-classification/test.csv')\n",
    "data.head() # have a look at the data\n"
   ]
  },
  {
   "cell_type": "code",
   "execution_count": 2,
   "metadata": {},
   "outputs": [
    {
     "data": {
      "text/plain": [
       "id               False\n",
       "comment_text     False\n",
       "toxic            False\n",
       "severe_toxic     False\n",
       "obscene          False\n",
       "threat           False\n",
       "insult           False\n",
       "identity_hate    False\n",
       "dtype: bool"
      ]
     },
     "execution_count": 2,
     "metadata": {},
     "output_type": "execute_result"
    }
   ],
   "source": [
    "data.isnull().any() # check for empty entries\n"
   ]
  },
  {
   "cell_type": "code",
   "execution_count": 3,
   "metadata": {},
   "outputs": [
    {
     "name": "stderr",
     "output_type": "stream",
     "text": [
      "Using TensorFlow backend.\n"
     ]
    }
   ],
   "source": [
    "from keras.preprocessing.text import text_to_word_sequence\n",
    "from nltk.corpus import stopwords\n",
    "\n",
    "stop_words = stopwords.words('english')\n",
    "\n",
    "# function to remove stop-words, numbers, and punctuation from comments\n",
    "def clean_data(data):\n",
    "    clean_data = [] \n",
    "    for text in data:\n",
    "        text = text_to_word_sequence(text)\n",
    "        text = [word for word in text if  word.isalpha() and word not in stop_words]\n",
    "        clean_data.append(text)\n",
    "\n",
    "    return clean_data\n"
   ]
  },
  {
   "cell_type": "code",
   "execution_count": 4,
   "metadata": {
    "collapsed": true
   },
   "outputs": [],
   "source": [
    "from sklearn.model_selection import train_test_split\n",
    "\n",
    "# split data into training and testing sets\n",
    "comments_train, comments_test, labels_train, labels_test = train_test_split(data['comment_text'],\\\n",
    "                data[['toxic','severe_toxic', 'obscene', 'threat', 'insult', 'identity_hate']], test_size=0.2, random_state=42)\n"
   ]
  },
  {
   "cell_type": "code",
   "execution_count": 5,
   "metadata": {
    "collapsed": true
   },
   "outputs": [],
   "source": [
    "# clean train and test data \n",
    "comments_train = clean_data(comments_train)\n",
    "comments_test = clean_data(comments_test)\n",
    "\n",
    "#keep this ones for kaagle score\n",
    "kaggle_train = clean_data(data['comment_text'])\n",
    "kaggle_labels = data[['toxic','severe_toxic', 'obscene', 'threat', 'insult', 'identity_hate']]\n",
    "kaggle_test = clean_data(test_data['comment_text'])\n"
   ]
  },
  {
   "cell_type": "code",
   "execution_count": 6,
   "metadata": {
    "collapsed": true
   },
   "outputs": [],
   "source": [
    "# import keras library for preprocessing\n",
    "from keras.preprocessing.text import Tokenizer\n",
    "from keras.preprocessing.sequence import pad_sequences\n",
    "\n",
    "max_words = 20000  # maximum number of common wards to be considered\n",
    "tokenizer = Tokenizer(num_words=max_words)\n",
    "tokenizer.fit_on_texts(comments_train) # fit tokenizer on comments_train\n"
   ]
  },
  {
   "cell_type": "code",
   "execution_count": 7,
   "metadata": {
    "collapsed": true
   },
   "outputs": [],
   "source": [
    "# turn senteces into sequences \n",
    "tokenized_comments_train = tokenizer.texts_to_sequences(comments_train)\n",
    "tokenized_comments_test = tokenizer.texts_to_sequences(comments_test)\n",
    "tokenized_kaggle_train = tokenizer.texts_to_sequences(kaggle_train)\n",
    "tokenized_kaggle_test = tokenizer.texts_to_sequences(kaggle_test)\n"
   ]
  },
  {
   "cell_type": "code",
   "execution_count": 8,
   "metadata": {},
   "outputs": [
    {
     "data": {
      "image/png": "[encoded data removed]",
      "text/plain": [
       "<matplotlib.figure.Figure at 0x12c229e5e80>"
      ]
     },
     "metadata": {},
     "output_type": "display_data"
    }
   ],
   "source": [
    "# visualize data to see distribution of number of  wards in comments \n",
    "senteces_length = [len(comment) for comment in tokenized_comments_train]\n",
    "\n",
    "plt.hist(senteces_length, bins=np.arange(0, 400, 10))\n",
    "plt.ylabel('Number of comments')\n",
    "plt.xlabel('Number of words')\n",
    "plt.show()"
   ]
  },
  {
   "cell_type": "code",
   "execution_count": 9,
   "metadata": {
    "collapsed": true
   },
   "outputs": [],
   "source": [
    "# turn senteces to the same lenght(maxlen)\n",
    "comments_length = 180 # max length for each comment \n",
    "pad_comments_train = pad_sequences(tokenized_comments_train, maxlen=comments_length )\n",
    "pad_comments_test = pad_sequences(tokenized_comments_test, maxlen=comments_length)\n",
    "pad_kaggle_train = pad_sequences(tokenized_kaggle_train, maxlen=comments_length)\n",
    "pad_kaggle_test = pad_sequences(tokenized_kaggle_test, maxlen=comments_length)\n"
   ]
  },
  {
   "cell_type": "code",
   "execution_count": 10,
   "metadata": {},
   "outputs": [
    {
     "name": "stdout",
     "output_type": "stream",
     "text": [
      "_________________________________________________________________\n",
      "Layer (type)                 Output Shape              Param #   \n",
      "=================================================================\n",
      "embedding_1 (Embedding)      (None, 180, 130)          2600000   \n",
      "_________________________________________________________________\n",
      "dropout_1 (Dropout)          (None, 180, 130)          0         \n",
      "_________________________________________________________________\n",
      "bidirectional_1 (Bidirection (None, 180, 120)          91680     \n",
      "_________________________________________________________________\n",
      "dropout_2 (Dropout)          (None, 180, 120)          0         \n",
      "_________________________________________________________________\n",
      "bidirectional_2 (Bidirection (None, 180, 100)          51300     \n",
      "_________________________________________________________________\n",
      "global_max_pooling1d_1 (Glob (None, 100)               0         \n",
      "_________________________________________________________________\n",
      "dropout_3 (Dropout)          (None, 100)               0         \n",
      "_________________________________________________________________\n",
      "dense_1 (Dense)              (None, 42)                4242      \n",
      "_________________________________________________________________\n",
      "dropout_4 (Dropout)          (None, 42)                0         \n",
      "_________________________________________________________________\n",
      "dense_2 (Dense)              (None, 6)                 258       \n",
      "=================================================================\n",
      "Total params: 2,747,480\n",
      "Trainable params: 2,747,480\n",
      "Non-trainable params: 0\n",
      "_________________________________________________________________\n"
     ]
    }
   ],
   "source": [
    "#import model and layers from keras library \n",
    "from keras.models import Sequential\n",
    "from keras.layers import Dense, Dropout, Embedding\n",
    "from keras.layers import Conv1D, MaxPooling1D, GlobalMaxPool1D\n",
    "from keras.layers import LSTM, GRU, BatchNormalization, Bidirectional\n",
    "\n",
    "model = Sequential()\n",
    "model.add(Embedding(max_words, 130, input_length=comments_length))\n",
    "#model.add(Conv1D(filters=20,kernel_size=2, padding='same', activation='relu'))\n",
    "#model.add(MaxPooling1D(pool_size=2))\n",
    "model.add(Dropout(0.3))\n",
    "model.add(Bidirectional(LSTM(60,return_sequences=True)))\n",
    "model.add(Dropout(0.3))\n",
    "model.add(Bidirectional(GRU(50,return_sequences=True)))\n",
    "#model.add(MaxPooling1D(pool_size=2))\n",
    "model.add(GlobalMaxPool1D())\n",
    "model.add(Dropout(0.2))\n",
    "model.add(Dense(42, activation='relu'))\n",
    "#model.add(BatchNormalization())\n",
    "model.add(Dropout(0.2))\n",
    "model.add(Dense(6, activation='sigmoid'))\n",
    "model.summary()"
   ]
  },
  {
   "cell_type": "code",
   "execution_count": 11,
   "metadata": {
    "collapsed": true
   },
   "outputs": [],
   "source": [
    "from sklearn.metrics import roc_auc_score\n",
    "from keras.callbacks import Callback\n",
    "\n",
    "# function to callback ROC AUC score after each epoch\n",
    "class roc_callback(Callback):\n",
    "    def __init__(self,training_data,validation_data):\n",
    "        self.x = training_data[0]\n",
    "        self.y = training_data[1]\n",
    "        self.x_val = validation_data[0]\n",
    "        self.y_val = validation_data[1]\n",
    "\n",
    "\n",
    "    def on_train_begin(self, logs={}):\n",
    "        return\n",
    "\n",
    "    def on_train_end(self, logs={}):\n",
    "        return\n",
    "\n",
    "    def on_epoch_begin(self, epoch, logs={}):\n",
    "        return\n",
    "\n",
    "    def on_epoch_end(self, epoch, logs={}):\n",
    "        y_pred = self.model.predict(self.x)\n",
    "        roc = roc_auc_score(self.y, y_pred)\n",
    "        y_pred_val = self.model.predict(self.x_val)\n",
    "        roc_val = roc_auc_score(self.y_val, y_pred_val)\n",
    "        print('\\rroc-auc: %s - roc-auc_val: %s' % (str(round(roc,4)),str(round(roc_val,4))),end=100*' '+'\\n')\n",
    "        return\n",
    "\n",
    "    def on_batch_begin(self, batch, logs={}):\n",
    "        return\n",
    "\n",
    "    def on_batch_end(self, batch, logs={}):\n",
    "        return\n"
   ]
  },
  {
   "cell_type": "code",
   "execution_count": 12,
   "metadata": {},
   "outputs": [
    {
     "name": "stdout",
     "output_type": "stream",
     "text": [
      "Train on 114890 samples, validate on 12766 samples\n",
      "Epoch 1/4\n",
      "114890/114890 [==============================] - 20042s 174ms/step - loss: 0.0661 - acc: 0.9787 - val_loss: 0.0552 - val_acc: 0.9795\n",
      "roc-auc: 0.98 - roc-auc_val: 0.9754                                                                                                    \n",
      "\n",
      "Epoch 00001: val_loss improved from inf to 0.05518, saving model to weights.best.h5py\n",
      "Epoch 2/4\n",
      "114890/114890 [==============================] - 3071s 27ms/step - loss: 0.0472 - acc: 0.9827 - val_loss: 0.0505 - val_acc: 0.9805\n",
      "roc-auc: 0.988 - roc-auc_val: 0.9786                                                                                                    \n",
      "\n",
      "Epoch 00002: val_loss improved from 0.05518 to 0.05055, saving model to weights.best.h5py\n",
      "Epoch 3/4\n",
      "114890/114890 [==============================] - 3029s 26ms/step - loss: 0.0414 - acc: 0.9842 - val_loss: 0.0522 - val_acc: 0.9808\n",
      "roc-auc: 0.9919 - roc-auc_val: 0.9774                                                                                                    \n",
      "\n",
      "Epoch 00003: val_loss did not improve\n",
      "Epoch 4/4\n",
      "114890/114890 [==============================] - 2878s 25ms/step - loss: 0.0367 - acc: 0.9856 - val_loss: 0.0559 - val_acc: 0.9798\n",
      "roc-auc: 0.994 - roc-auc_val: 0.9763                                                                                                    \n",
      "\n",
      "Epoch 00004: val_loss did not improve\n"
     ]
    },
    {
     "data": {
      "text/plain": [
       "<keras.callbacks.History at 0x12c82cff898>"
      ]
     },
     "execution_count": 12,
     "metadata": {},
     "output_type": "execute_result"
    }
   ],
   "source": [
    "from keras.callbacks import ModelCheckpoint\n",
    "\n",
    "# save weight when there is a loss improvement\n",
    "checkpointer = ModelCheckpoint(filepath='weights.best.h5py', verbose=1, save_best_only=True)\n",
    "\n",
    "#compile the model \n",
    "model.compile(optimizer='adam', loss = 'binary_crossentropy', metrics=['accuracy'])\n",
    "\n",
    "#split data to a training and validation sets (validation set is 10%)\n",
    "x_val = pad_comments_train[114890:]\n",
    "y_val = labels_train[114890:]\n",
    "x_train = pad_comments_train[:114890]\n",
    "y_train = labels_train[:114890]\n",
    "\n",
    "#fit the data\n",
    "model.fit(x_train,y_train, validation_data=(x_val, y_val), epochs=4, batch_size=25, verbose=1,\\\n",
    "          callbacks=[roc_callback(training_data=(x_train,y_train),validation_data=(x_val, y_val)), checkpointer])"
   ]
  },
  {
   "cell_type": "code",
   "execution_count": 13,
   "metadata": {
    "collapsed": true
   },
   "outputs": [],
   "source": [
    "#load the weights with the best loss value\n",
    "model.load_weights('weights.best.h5py')\n"
   ]
  },
  {
   "cell_type": "code",
   "execution_count": 14,
   "metadata": {
    "collapsed": true
   },
   "outputs": [],
   "source": [
    "# save predictions \n",
    "pre = model.predict(pad_comments_test)\n"
   ]
  },
  {
   "cell_type": "code",
   "execution_count": 15,
   "metadata": {},
   "outputs": [
    {
     "name": "stdout",
     "output_type": "stream",
     "text": [
      "0.979105901162 \n",
      "\n",
      "0.974300876177\n",
      "0.987969885445\n",
      "0.989203936825\n",
      "0.973973298068\n",
      "0.980334045764\n",
      "0.968853364691\n"
     ]
    },
    {
     "data": {
      "text/plain": [
       "0.97910590116180696"
      ]
     },
     "execution_count": 15,
     "metadata": {},
     "output_type": "execute_result"
    }
   ],
   "source": [
    "from sklearn.metrics import roc_auc_score\n",
    "\n",
    "print (roc_auc_score(labels_test, pre),'\\n')\n",
    "#count mean column-wise ROC AUC score\n",
    "roc_auc = []\n",
    "for i in range(6):\n",
    "    score = roc_auc_score(labels_test.iloc[:,i], pre[:,i])\n",
    "    roc_auc.append(score)\n",
    "    print (score)\n",
    "    \n",
    "mean_roc_auc = sum(roc_auc)/6\n",
    "mean_roc_auc"
   ]
  },
  {
   "cell_type": "code",
   "execution_count": null,
   "metadata": {},
   "outputs": [
    {
     "name": "stdout",
     "output_type": "stream",
     "text": [
      "Train on 143613 samples, validate on 15958 samples\n",
      "Epoch 1/3\n",
      " 54800/143613 [==========>...................] - ETA: 45:22 - loss: 0.0447 - acc: 0.9832"
     ]
    }
   ],
   "source": [
    "#now train on all available training data for kaggle\n",
    "model.compile(optimizer='adam', loss = 'binary_crossentropy', metrics=['accuracy'])\n",
    "model.fit(pad_kaggle_train, kaggle_labels,epochs=3, batch_size=25, validation_split=0.1, callbacks=[checkpointer], verbose=1)\n"
   ]
  },
  {
   "cell_type": "code",
   "execution_count": 52,
   "metadata": {
    "collapsed": true
   },
   "outputs": [],
   "source": [
    "model.load_weights('weights.best.h5py')\n"
   ]
  },
  {
   "cell_type": "code",
   "execution_count": 53,
   "metadata": {
    "collapsed": true
   },
   "outputs": [],
   "source": [
    "#save predictions for kaggle test data\n",
    "predicted = model.predict(pad_kaggle_data)\n"
   ]
  },
  {
   "cell_type": "code",
   "execution_count": 54,
   "metadata": {
    "collapsed": true
   },
   "outputs": [],
   "source": [
    "#save predictions in pandas DataFrame\n",
    "submission = pd.DataFrame(predicted, index=test_data['id'],\\\n",
    "                          columns=['toxic','severe_toxic', 'obscene', 'threat', 'insult', 'identity_hate'])\n",
    "\n",
    "#load prediction to the submission.csv file\n",
    "submission.to_csv(\"submission.csv\")\n"
   ]
  },
  {
   "cell_type": "code",
   "execution_count": null,
   "metadata": {
    "collapsed": true
   },
   "outputs": [],
   "source": []
  }
 ],
 "metadata": {
  "kernelspec": {
   "display_name": "Python 3",
   "language": "python",
   "name": "python3"
  },
  "language_info": {
   "codemirror_mode": {
    "name": "ipython",
    "version": 3
   },
   "file_extension": ".py",
   "mimetype": "text/x-python",
   "name": "python",
   "nbconvert_exporter": "python",
   "pygments_lexer": "ipython3",
   "version": "3.6.2"
  }
 },
 "nbformat": 4,
 "nbformat_minor": 2
}
