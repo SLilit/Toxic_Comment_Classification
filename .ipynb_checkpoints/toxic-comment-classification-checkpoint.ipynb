{
 "cells": [
  {
   "cell_type": "code",
   "execution_count": 140,
   "metadata": {},
   "outputs": [
    {
     "data": {
      "text/html": [
       "<div>\n",
       "<style>\n",
       "    .dataframe thead tr:only-child th {\n",
       "        text-align: right;\n",
       "    }\n",
       "\n",
       "    .dataframe thead th {\n",
       "        text-align: left;\n",
       "    }\n",
       "\n",
       "    .dataframe tbody tr th {\n",
       "        vertical-align: top;\n",
       "    }\n",
       "</style>\n",
       "<table border=\"1\" class=\"dataframe\">\n",
       "  <thead>\n",
       "    <tr style=\"text-align: right;\">\n",
       "      <th></th>\n",
       "      <th>id</th>\n",
       "      <th>comment_text</th>\n",
       "      <th>toxic</th>\n",
       "      <th>severe_toxic</th>\n",
       "      <th>obscene</th>\n",
       "      <th>threat</th>\n",
       "      <th>insult</th>\n",
       "      <th>identity_hate</th>\n",
       "    </tr>\n",
       "  </thead>\n",
       "  <tbody>\n",
       "    <tr>\n",
       "      <th>0</th>\n",
       "      <td>0000997932d777bf</td>\n",
       "      <td>Explanation\\r\\nWhy the edits made under my use...</td>\n",
       "      <td>0</td>\n",
       "      <td>0</td>\n",
       "      <td>0</td>\n",
       "      <td>0</td>\n",
       "      <td>0</td>\n",
       "      <td>0</td>\n",
       "    </tr>\n",
       "    <tr>\n",
       "      <th>1</th>\n",
       "      <td>000103f0d9cfb60f</td>\n",
       "      <td>D'aww! He matches this background colour I'm s...</td>\n",
       "      <td>0</td>\n",
       "      <td>0</td>\n",
       "      <td>0</td>\n",
       "      <td>0</td>\n",
       "      <td>0</td>\n",
       "      <td>0</td>\n",
       "    </tr>\n",
       "    <tr>\n",
       "      <th>2</th>\n",
       "      <td>000113f07ec002fd</td>\n",
       "      <td>Hey man, I'm really not trying to edit war. It...</td>\n",
       "      <td>0</td>\n",
       "      <td>0</td>\n",
       "      <td>0</td>\n",
       "      <td>0</td>\n",
       "      <td>0</td>\n",
       "      <td>0</td>\n",
       "    </tr>\n",
       "    <tr>\n",
       "      <th>3</th>\n",
       "      <td>0001b41b1c6bb37e</td>\n",
       "      <td>\"\\r\\nMore\\r\\nI can't make any real suggestions...</td>\n",
       "      <td>0</td>\n",
       "      <td>0</td>\n",
       "      <td>0</td>\n",
       "      <td>0</td>\n",
       "      <td>0</td>\n",
       "      <td>0</td>\n",
       "    </tr>\n",
       "    <tr>\n",
       "      <th>4</th>\n",
       "      <td>0001d958c54c6e35</td>\n",
       "      <td>You, sir, are my hero. Any chance you remember...</td>\n",
       "      <td>0</td>\n",
       "      <td>0</td>\n",
       "      <td>0</td>\n",
       "      <td>0</td>\n",
       "      <td>0</td>\n",
       "      <td>0</td>\n",
       "    </tr>\n",
       "  </tbody>\n",
       "</table>\n",
       "</div>"
      ],
      "text/plain": [
       "                 id                                       comment_text  toxic  \\\n",
       "0  0000997932d777bf  Explanation\\r\\nWhy the edits made under my use...      0   \n",
       "1  000103f0d9cfb60f  D'aww! He matches this background colour I'm s...      0   \n",
       "2  000113f07ec002fd  Hey man, I'm really not trying to edit war. It...      0   \n",
       "3  0001b41b1c6bb37e  \"\\r\\nMore\\r\\nI can't make any real suggestions...      0   \n",
       "4  0001d958c54c6e35  You, sir, are my hero. Any chance you remember...      0   \n",
       "\n",
       "   severe_toxic  obscene  threat  insult  identity_hate  \n",
       "0             0        0       0       0              0  \n",
       "1             0        0       0       0              0  \n",
       "2             0        0       0       0              0  \n",
       "3             0        0       0       0              0  \n",
       "4             0        0       0       0              0  "
      ]
     },
     "execution_count": 140,
     "metadata": {},
     "output_type": "execute_result"
    }
   ],
   "source": [
    "import numpy as np\n",
    "import pandas as pd\n",
    "import matplotlib.pyplot as plt\n",
    "%matplotlib inline\n",
    "\n",
    "data = pd.read_csv('C:/Users/DENVER/Udacity/machine-learning\\projects/toxic-comment-classification/train.csv')#load the dataset\n",
    "test_data = pd.read_csv('C:/Users/DENVER/Downloads/test.csv/test.csv')\n",
    "data.head() # have a look at the data\n"
   ]
  },
  {
   "cell_type": "code",
   "execution_count": 141,
   "metadata": {
    "scrolled": true
   },
   "outputs": [
    {
     "data": {
      "text/plain": [
       "id               False\n",
       "comment_text     False\n",
       "toxic            False\n",
       "severe_toxic     False\n",
       "obscene          False\n",
       "threat           False\n",
       "insult           False\n",
       "identity_hate    False\n",
       "dtype: bool"
      ]
     },
     "execution_count": 141,
     "metadata": {},
     "output_type": "execute_result"
    }
   ],
   "source": [
    "data.isnull().any() # check for empty entries"
   ]
  },
  {
   "cell_type": "code",
   "execution_count": 142,
   "metadata": {
    "collapsed": true
   },
   "outputs": [],
   "source": [
    "from keras.preprocessing.text import text_to_word_sequence\n",
    "from nltk.corpus import stopwords\n",
    "\n",
    "stop_words = stopwords.words('english')\n",
    "\n",
    "# remove stop-words, numbers, and punctuation\n",
    "clean_data = [] \n",
    "for text in data['comment_text']:\n",
    "    text = text_to_word_sequence(text)\n",
    "    text = [word for word in text if word not in stop_words and word.isalpha() ]\n",
    "    clean_data.append(text)\n",
    "\n"
   ]
  },
  {
   "cell_type": "code",
   "execution_count": 143,
   "metadata": {
    "collapsed": true
   },
   "outputs": [],
   "source": [
    "from sklearn.model_selection import train_test_split\n",
    "\n",
    "# split data into training and testing sets\n",
    "comments_train, comments_test, labels_train, labels_test = train_test_split(data['comment_text'],\\\n",
    "                data[['toxic','severe_toxic', 'obscene', 'threat', 'insult', 'identity_hate']], test_size=0.25, random_state=42)\n",
    "\n"
   ]
  },
  {
   "cell_type": "code",
   "execution_count": 144,
   "metadata": {
    "collapsed": true
   },
   "outputs": [],
   "source": [
    "# import keras library for preprocessing\n",
    "\n",
    "from keras.preprocessing.text import Tokenizer\n",
    "from keras.preprocessing.sequence import pad_sequences\n",
    "\n",
    "\n",
    "max_words = 15000  # maximum number of common wards to be considered\n",
    "tokenizer = Tokenizer(num_words=max_words)\n",
    "tokenizer.fit_on_texts(clean_data) # fit tokenizer on clean_data\n",
    "\n",
    "\n"
   ]
  },
  {
   "cell_type": "code",
   "execution_count": 145,
   "metadata": {
    "collapsed": true
   },
   "outputs": [],
   "source": [
    "\n",
    "# turn senteces into sequences \n",
    "tokenized_comments_train = tokenizer.texts_to_sequences(comments_train)\n",
    "tokenized_comments_test = tokenizer.texts_to_sequences(comments_test)\n",
    "tokenized_test_data = tokenizer.texts_to_sequences(test_data['comment_text'])"
   ]
  },
  {
   "cell_type": "code",
   "execution_count": 146,
   "metadata": {},
   "outputs": [
    {
     "data": {
      "image/png": "[encoded data removed]",
      "text/plain": [
       "<matplotlib.figure.Figure at 0x14ea522f518>"
      ]
     },
     "metadata": {},
     "output_type": "display_data"
    }
   ],
   "source": [
    "# visualize data\n",
    "senteces_length = [len(comment) for comment in tokenized_comments_train]\n",
    "\n",
    "plt.hist(senteces_length, bins=np.arange(0, 400, 25))\n",
    "plt.ylabel('Number of comments')\n",
    "plt.xlabel('Number of words')\n",
    "plt.show()"
   ]
  },
  {
   "cell_type": "code",
   "execution_count": 147,
   "metadata": {
    "collapsed": true
   },
   "outputs": [],
   "source": [
    "# turn senteces to the same lenght(maxlen)\n",
    "comments_length = 150\n",
    "comments_train = pad_sequences(tokenized_comments_train, maxlen=comments_length )\n",
    "comments_test = pad_sequences(tokenized_comments_test, maxlen=comments_length)\n",
    "pad_test_data = pad_sequences(tokenized_test_data, maxlen=comments_length)\n"
   ]
  },
  {
   "cell_type": "code",
   "execution_count": 164,
   "metadata": {},
   "outputs": [
    {
     "name": "stdout",
     "output_type": "stream",
     "text": [
      "_________________________________________________________________\n",
      "Layer (type)                 Output Shape              Param #   \n",
      "=================================================================\n",
      "embedding_19 (Embedding)     (None, 150, 130)          1950000   \n",
      "_________________________________________________________________\n",
      "dropout_55 (Dropout)         (None, 150, 130)          0         \n",
      "_________________________________________________________________\n",
      "conv1d_29 (Conv1D)           (None, 150, 10)           2610      \n",
      "_________________________________________________________________\n",
      "max_pooling1d_29 (MaxPooling (None, 75, 10)            0         \n",
      "_________________________________________________________________\n",
      "dropout_56 (Dropout)         (None, 75, 10)            0         \n",
      "_________________________________________________________________\n",
      "conv1d_30 (Conv1D)           (None, 75, 20)            420       \n",
      "_________________________________________________________________\n",
      "global_average_pooling1d_18  (None, 20)                0         \n",
      "_________________________________________________________________\n",
      "dropout_57 (Dropout)         (None, 20)                0         \n",
      "_________________________________________________________________\n",
      "dense_28 (Dense)             (None, 30)                630       \n",
      "_________________________________________________________________\n",
      "dropout_58 (Dropout)         (None, 30)                0         \n",
      "_________________________________________________________________\n",
      "dense_29 (Dense)             (None, 6)                 186       \n",
      "=================================================================\n",
      "Total params: 1,953,846\n",
      "Trainable params: 1,953,846\n",
      "Non-trainable params: 0\n",
      "_________________________________________________________________\n"
     ]
    }
   ],
   "source": [
    "# import keras library for architecture\n",
    "from keras.layers import Embedding,LSTM, Conv1D, MaxPooling1D, GlobalAveragePooling1D\n",
    "from keras.layers import Dense, Dropout\n",
    "from keras.models import Sequential\n",
    "\n",
    "model = Sequential()\n",
    "#add embedding layer where max_words is vocabulary size, 150 is length of vectors and 100 is output dimension\n",
    "model.add(Embedding(max_words, 130, input_length=comments_length))\n",
    "model.add(Dropout(0.1))\n",
    "#model.add(LSTM(60, return_sequences=True, activation = 'relu'))\n",
    "model.add(Conv1D(filters=10, kernel_size=2, padding='same', activation='relu'))\n",
    "model.add(MaxPooling1D(pool_size=2))\n",
    "model.add(Dropout(0.4))\n",
    "model.add(Conv1D(filters=20, kernel_size=2, padding='same', activation='relu'))\n",
    "#model.add(MaxPooling1D(pool_size=2))\n",
    "model.add(GlobalAveragePooling1D())\n",
    "model.add(Dropout(0.4))\n",
    "model.add(Dense(30, activation='relu'))\n",
    "model.add(Dropout(0.2))\n",
    "model.add(Dense(6, activation='softmax'))\n",
    "\n",
    "model.summary()"
   ]
  },
  {
   "cell_type": "code",
   "execution_count": 165,
   "metadata": {
    "collapsed": true
   },
   "outputs": [],
   "source": [
    "model.compile(optimizer='adam', loss='binary_crossentropy',  metrics=['accuracy'])"
   ]
  },
  {
   "cell_type": "code",
   "execution_count": 166,
   "metadata": {
    "scrolled": true
   },
   "outputs": [
    {
     "name": "stdout",
     "output_type": "stream",
     "text": [
      "Train on 95742 samples, validate on 23936 samples\n",
      "Epoch 1/20\n",
      "95742/95742 [==============================] - 224s 2ms/step - loss: 0.2287 - acc: 0.9637 - val_loss: 0.2272 - val_acc: 0.9630\n",
      "\n",
      "Epoch 00001: val_loss improved from inf to 0.22723, saving model to weights.best.h5py\n",
      "Epoch 2/20\n",
      "95742/95742 [==============================] - 224s 2ms/step - loss: 0.2253 - acc: 0.9641 - val_loss: 0.2260 - val_acc: 0.9633\n",
      "\n",
      "Epoch 00002: val_loss improved from 0.22723 to 0.22600, saving model to weights.best.h5py\n",
      "Epoch 3/20\n",
      "95742/95742 [==============================] - 226s 2ms/step - loss: 0.2237 - acc: 0.9648 - val_loss: 0.2258 - val_acc: 0.9640\n",
      "\n",
      "Epoch 00003: val_loss improved from 0.22600 to 0.22580, saving model to weights.best.h5py\n",
      "Epoch 4/20\n",
      "95742/95742 [==============================] - 224s 2ms/step - loss: 0.2227 - acc: 0.9653 - val_loss: 0.2259 - val_acc: 0.9640\n",
      "\n",
      "Epoch 00004: val_loss did not improve\n",
      "Epoch 5/20\n",
      "95742/95742 [==============================] - 225s 2ms/step - loss: 0.2218 - acc: 0.9659 - val_loss: 0.2258 - val_acc: 0.9634\n",
      "\n",
      "Epoch 00005: val_loss did not improve\n",
      "Epoch 6/20\n",
      "95742/95742 [==============================] - 228s 2ms/step - loss: 0.2213 - acc: 0.9664 - val_loss: 0.2259 - val_acc: 0.9633\n",
      "\n",
      "Epoch 00006: val_loss did not improve\n",
      "Epoch 7/20\n",
      "95742/95742 [==============================] - 229s 2ms/step - loss: 0.2207 - acc: 0.9666 - val_loss: 0.2259 - val_acc: 0.9641\n",
      "\n",
      "Epoch 00007: val_loss did not improve\n",
      "Epoch 8/20\n",
      "95742/95742 [==============================] - 231s 2ms/step - loss: 0.2202 - acc: 0.9670 - val_loss: 0.2257 - val_acc: 0.9636\n",
      "\n",
      "Epoch 00008: val_loss improved from 0.22580 to 0.22571, saving model to weights.best.h5py\n",
      "Epoch 9/20\n",
      "95742/95742 [==============================] - 235s 2ms/step - loss: 0.2197 - acc: 0.9671 - val_loss: 0.2260 - val_acc: 0.9635\n",
      "\n",
      "Epoch 00009: val_loss did not improve\n",
      "Epoch 10/20\n",
      "95742/95742 [==============================] - 238s 2ms/step - loss: 0.2192 - acc: 0.9671 - val_loss: 0.2260 - val_acc: 0.9631\n",
      "\n",
      "Epoch 00010: val_loss did not improve\n",
      "Epoch 11/20\n",
      "95742/95742 [==============================] - 235s 2ms/step - loss: 0.2189 - acc: 0.9672 - val_loss: 0.2261 - val_acc: 0.9631\n",
      "\n",
      "Epoch 00011: val_loss did not improve\n",
      "Epoch 12/20\n",
      "95742/95742 [==============================] - 251s 3ms/step - loss: 0.2185 - acc: 0.9672 - val_loss: 0.2262 - val_acc: 0.9633\n",
      "\n",
      "Epoch 00012: val_loss did not improve\n",
      "Epoch 13/20\n",
      "95742/95742 [==============================] - 283s 3ms/step - loss: 0.2182 - acc: 0.9672 - val_loss: 0.2268 - val_acc: 0.9634\n",
      "\n",
      "Epoch 00013: val_loss did not improve\n",
      "Epoch 14/20\n",
      "95742/95742 [==============================] - 262s 3ms/step - loss: 0.2180 - acc: 0.9672 - val_loss: 0.2269 - val_acc: 0.9632\n",
      "\n",
      "Epoch 00014: val_loss did not improve\n",
      "Epoch 15/20\n",
      "95742/95742 [==============================] - 286s 3ms/step - loss: 0.2178 - acc: 0.9675 - val_loss: 0.2268 - val_acc: 0.9630\n",
      "\n",
      "Epoch 00015: val_loss did not improve\n",
      "Epoch 16/20\n",
      "95742/95742 [==============================] - 249s 3ms/step - loss: 0.2175 - acc: 0.9675 - val_loss: 0.2267 - val_acc: 0.9630\n",
      "\n",
      "Epoch 00016: val_loss did not improve\n",
      "Epoch 17/20\n",
      "95742/95742 [==============================] - 261s 3ms/step - loss: 0.2174 - acc: 0.9674 - val_loss: 0.2268 - val_acc: 0.9630\n",
      "\n",
      "Epoch 00017: val_loss did not improve\n",
      "Epoch 18/20\n",
      "95742/95742 [==============================] - 265s 3ms/step - loss: 0.2172 - acc: 0.9675 - val_loss: 0.2265 - val_acc: 0.9629\n",
      "\n",
      "Epoch 00018: val_loss did not improve\n",
      "Epoch 19/20\n",
      "95742/95742 [==============================] - 254s 3ms/step - loss: 0.2169 - acc: 0.9676 - val_loss: 0.2269 - val_acc: 0.9629\n",
      "\n",
      "Epoch 00019: val_loss did not improve\n",
      "Epoch 20/20\n",
      "95742/95742 [==============================] - 233s 2ms/step - loss: 0.2169 - acc: 0.9676 - val_loss: 0.2270 - val_acc: 0.9627\n",
      "\n",
      "Epoch 00020: val_loss did not improve\n"
     ]
    },
    {
     "data": {
      "text/plain": [
       "<keras.callbacks.History at 0x14f1eca5f60>"
      ]
     },
     "execution_count": 166,
     "metadata": {},
     "output_type": "execute_result"
    }
   ],
   "source": [
    "from keras.callbacks import ModelCheckpoint\n",
    "\n",
    "# Use model chackpointing to save the model that attains the best validation loss\n",
    "chackpointer = ModelCheckpoint(filepath='weights.best.h5py', verbose=1, save_best_only=True)\n",
    "\n",
    "model.fit(comments_train, labels_train, validation_split=0.2,\\\n",
    "          epochs=20, batch_size=50, callbacks=[chackpointer], verbose=1)"
   ]
  },
  {
   "cell_type": "code",
   "execution_count": null,
   "metadata": {
    "collapsed": true
   },
   "outputs": [],
   "source": [
    "model.load_weights('weights.best.h5py')"
   ]
  },
  {
   "cell_type": "code",
   "execution_count": 152,
   "metadata": {},
   "outputs": [
    {
     "name": "stdout",
     "output_type": "stream",
     "text": [
      "39893/39893 [==============================] - 8s 213us/step\n"
     ]
    },
    {
     "data": {
      "text/plain": [
       "[0.23139807146068825, 0.96308040650272853]"
      ]
     },
     "execution_count": 152,
     "metadata": {},
     "output_type": "execute_result"
    }
   ],
   "source": [
    "scores = model.evaluate(comments_test,labels_test)\n",
    "scores"
   ]
  },
  {
   "cell_type": "code",
   "execution_count": 153,
   "metadata": {
    "collapsed": true
   },
   "outputs": [],
   "source": [
    "predictions = model.predict(comments_test)"
   ]
  },
  {
   "cell_type": "code",
   "execution_count": 154,
   "metadata": {},
   "outputs": [
    {
     "data": {
      "text/plain": [
       "0.50048301878819978"
      ]
     },
     "execution_count": 154,
     "metadata": {},
     "output_type": "execute_result"
    }
   ],
   "source": [
    "from sklearn.metrics import roc_auc_score\n",
    "roc_auc_score(labels_test, predictions)"
   ]
  },
  {
   "cell_type": "code",
   "execution_count": 92,
   "metadata": {
    "collapsed": true
   },
   "outputs": [],
   "source": [
    "pre = model.predict(pad_test_data)"
   ]
  },
  {
   "cell_type": "code",
   "execution_count": 93,
   "metadata": {
    "collapsed": true
   },
   "outputs": [],
   "source": [
    "submission = pd.DataFrame(pre, index=test_data['id'], columns=['toxic', 'severe_toxic',\\\n",
    "                                                               'obscene','threat', 'insult', 'identity_hate'])"
   ]
  },
  {
   "cell_type": "code",
   "execution_count": 94,
   "metadata": {
    "collapsed": true
   },
   "outputs": [],
   "source": [
    "submission.to_csv('submission.csv')"
   ]
  },
  {
   "cell_type": "code",
   "execution_count": null,
   "metadata": {
    "collapsed": true
   },
   "outputs": [],
   "source": []
  }
 ],
 "metadata": {
  "kernelspec": {
   "display_name": "Python 3",
   "language": "python",
   "name": "python3"
  },
  "language_info": {
   "codemirror_mode": {
    "name": "ipython",
    "version": 3
   },
   "file_extension": ".py",
   "mimetype": "text/x-python",
   "name": "python",
   "nbconvert_exporter": "python",
   "pygments_lexer": "ipython3",
   "version": "3.6.2"
  }
 },
 "nbformat": 4,
 "nbformat_minor": 2
}
