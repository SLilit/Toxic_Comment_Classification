{
 "cells": [
  {
   "cell_type": "code",
   "execution_count": null,
   "metadata": {
    "collapsed": true
   },
   "outputs": [],
   "source": [
    "import numpy as np\n",
    "import pandas as pd\n",
    "import matplotlib.pyplot as plt\n",
    "%matplotlib inline\n",
    "\n",
    "data = pd.read_csv('C:/Users/DENVER/Udacity/machine-learning\\projects/toxic-comment-classification/train.csv')#load the dataset\n",
    "test_data = pd.read_csv('C:/Users/DENVER/Downloads/test.csv/test.csv')\n",
    "data.head() # have a look at the data\n"
   ]
  },
  {
   "cell_type": "code",
   "execution_count": null,
   "metadata": {
    "collapsed": true
   },
   "outputs": [],
   "source": [
    "data.isnull().any() # check for empty entries"
   ]
  },
  {
   "cell_type": "code",
   "execution_count": null,
   "metadata": {
    "collapsed": true
   },
   "outputs": [],
   "source": [
    "from keras.preprocessing.text import text_to_word_sequence\n",
    "from nltk.corpus import stopwords\n",
    "\n",
    "stop_words = stopwords.words('english')\n",
    "\n",
    "# remove stop-words, numbers, and punctuation\n",
    "clean_data = [] \n",
    "for text in data['comment_text']:\n",
    "    text = text_to_word_sequence(text)\n",
    "    text = [word for word in text if word not in stop_words and word.isalpha() ]\n",
    "    clean_data.append(text)\n",
    "\n"
   ]
  },
  {
   "cell_type": "code",
   "execution_count": null,
   "metadata": {
    "collapsed": true
   },
   "outputs": [],
   "source": [
    "from sklearn.model_selection import train_test_split\n",
    "\n",
    "# split data into training and testing sets\n",
    "comments_train, comments_test, labels_train, labels_test = train_test_split(data['comment_text'],\\\n",
    "                data[['toxic','severe_toxic', 'obscene', 'threat', 'insult', 'identity_hate']], test_size=0.25, random_state=42)\n",
    "\n"
   ]
  },
  {
   "cell_type": "code",
   "execution_count": null,
   "metadata": {
    "collapsed": true
   },
   "outputs": [],
   "source": [
    "# import keras library for preprocessing\n",
    "\n",
    "from keras.preprocessing.text import Tokenizer\n",
    "from keras.preprocessing.sequence import pad_sequences\n",
    "\n",
    "\n",
    "max_words = 15000  # maximum number of common wards to be considered\n",
    "tokenizer = Tokenizer(num_words=max_words)\n",
    "tokenizer.fit_on_texts(clean_data) # fit tokenizer on clean_data\n",
    "\n",
    "\n"
   ]
  },
  {
   "cell_type": "code",
   "execution_count": null,
   "metadata": {
    "collapsed": true
   },
   "outputs": [],
   "source": [
    "\n",
    "# turn senteces into sequences \n",
    "tokenized_comments_train = tokenizer.texts_to_sequences(comments_train)\n",
    "tokenized_comments_test = tokenizer.texts_to_sequences(comments_test)\n",
    "tokenized_test_data = tokenizer.texts_to_sequences(test_data['comment_text'])"
   ]
  },
  {
   "cell_type": "code",
   "execution_count": null,
   "metadata": {
    "collapsed": true
   },
   "outputs": [],
   "source": [
    "# visualize data\n",
    "senteces_length = [len(comment) for comment in tokenized_comments_train]\n",
    "\n",
    "plt.hist(senteces_length, bins=np.arange(0, 400, 25))\n",
    "plt.ylabel('Number of comments')\n",
    "plt.xlabel('Number of words')\n",
    "plt.show()"
   ]
  },
  {
   "cell_type": "code",
   "execution_count": null,
   "metadata": {
    "collapsed": true
   },
   "outputs": [],
   "source": [
    "# turn senteces to the same lenght(maxlen)\n",
    "comments_length = 150\n",
    "comments_train = pad_sequences(tokenized_comments_train, maxlen=comments_length )\n",
    "comments_test = pad_sequences(tokenized_comments_test, maxlen=comments_length)\n",
    "pad_test_data = pad_sequences(tokenized_test_data, maxlen=comments_length)\n"
   ]
  }
 ],
 "metadata": {
  "kernelspec": {
   "display_name": "Python 3",
   "language": "python",
   "name": "python3"
  },
  "language_info": {
   "codemirror_mode": {
    "name": "ipython",
    "version": 3
   },
   "file_extension": ".py",
   "mimetype": "text/x-python",
   "name": "python",
   "nbconvert_exporter": "python",
   "pygments_lexer": "ipython3",
   "version": "3.6.2"
  }
 },
 "nbformat": 4,
 "nbformat_minor": 2
}
