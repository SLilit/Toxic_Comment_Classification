{
 "cells": [
  {
   "cell_type": "code",
<<<<<<< HEAD
   "execution_count": 2,
=======
   "execution_count": 69,
>>>>>>> 8c26b1fabf15859590ac2a121da0373106672d8b
   "metadata": {},
   "outputs": [
    {
     "data": {
      "text/html": [
       "<div>\n",
       "<style>\n",
       "    .dataframe thead tr:only-child th {\n",
       "        text-align: right;\n",
       "    }\n",
       "\n",
       "    .dataframe thead th {\n",
       "        text-align: left;\n",
       "    }\n",
       "\n",
       "    .dataframe tbody tr th {\n",
       "        vertical-align: top;\n",
       "    }\n",
       "</style>\n",
       "<table border=\"1\" class=\"dataframe\">\n",
       "  <thead>\n",
       "    <tr style=\"text-align: right;\">\n",
       "      <th></th>\n",
       "      <th>id</th>\n",
       "      <th>comment_text</th>\n",
       "      <th>toxic</th>\n",
       "      <th>severe_toxic</th>\n",
       "      <th>obscene</th>\n",
       "      <th>threat</th>\n",
       "      <th>insult</th>\n",
       "      <th>identity_hate</th>\n",
       "    </tr>\n",
       "  </thead>\n",
       "  <tbody>\n",
       "    <tr>\n",
       "      <th>0</th>\n",
       "      <td>0000997932d777bf</td>\n",
<<<<<<< HEAD
       "      <td>Explanation\\r\\nWhy the edits made under my use...</td>\n",
=======
       "      <td>Explanation\\nWhy the edits made under my usern...</td>\n",
>>>>>>> 8c26b1fabf15859590ac2a121da0373106672d8b
       "      <td>0</td>\n",
       "      <td>0</td>\n",
       "      <td>0</td>\n",
       "      <td>0</td>\n",
       "      <td>0</td>\n",
       "      <td>0</td>\n",
       "    </tr>\n",
       "    <tr>\n",
       "      <th>1</th>\n",
       "      <td>000103f0d9cfb60f</td>\n",
       "      <td>D'aww! He matches this background colour I'm s...</td>\n",
       "      <td>0</td>\n",
       "      <td>0</td>\n",
       "      <td>0</td>\n",
       "      <td>0</td>\n",
       "      <td>0</td>\n",
       "      <td>0</td>\n",
       "    </tr>\n",
       "    <tr>\n",
       "      <th>2</th>\n",
       "      <td>000113f07ec002fd</td>\n",
       "      <td>Hey man, I'm really not trying to edit war. It...</td>\n",
       "      <td>0</td>\n",
       "      <td>0</td>\n",
       "      <td>0</td>\n",
       "      <td>0</td>\n",
       "      <td>0</td>\n",
       "      <td>0</td>\n",
       "    </tr>\n",
       "    <tr>\n",
       "      <th>3</th>\n",
       "      <td>0001b41b1c6bb37e</td>\n",
<<<<<<< HEAD
       "      <td>\"\\r\\nMore\\r\\nI can't make any real suggestions...</td>\n",
=======
       "      <td>\"\\nMore\\nI can't make any real suggestions on ...</td>\n",
>>>>>>> 8c26b1fabf15859590ac2a121da0373106672d8b
       "      <td>0</td>\n",
       "      <td>0</td>\n",
       "      <td>0</td>\n",
       "      <td>0</td>\n",
       "      <td>0</td>\n",
       "      <td>0</td>\n",
       "    </tr>\n",
       "    <tr>\n",
       "      <th>4</th>\n",
       "      <td>0001d958c54c6e35</td>\n",
       "      <td>You, sir, are my hero. Any chance you remember...</td>\n",
       "      <td>0</td>\n",
       "      <td>0</td>\n",
       "      <td>0</td>\n",
       "      <td>0</td>\n",
       "      <td>0</td>\n",
       "      <td>0</td>\n",
       "    </tr>\n",
       "  </tbody>\n",
       "</table>\n",
       "</div>"
      ],
      "text/plain": [
       "                 id                                       comment_text  toxic  \\\n",
<<<<<<< HEAD
       "0  0000997932d777bf  Explanation\\r\\nWhy the edits made under my use...      0   \n",
       "1  000103f0d9cfb60f  D'aww! He matches this background colour I'm s...      0   \n",
       "2  000113f07ec002fd  Hey man, I'm really not trying to edit war. It...      0   \n",
       "3  0001b41b1c6bb37e  \"\\r\\nMore\\r\\nI can't make any real suggestions...      0   \n",
=======
       "0  0000997932d777bf  Explanation\\nWhy the edits made under my usern...      0   \n",
       "1  000103f0d9cfb60f  D'aww! He matches this background colour I'm s...      0   \n",
       "2  000113f07ec002fd  Hey man, I'm really not trying to edit war. It...      0   \n",
       "3  0001b41b1c6bb37e  \"\\nMore\\nI can't make any real suggestions on ...      0   \n",
>>>>>>> 8c26b1fabf15859590ac2a121da0373106672d8b
       "4  0001d958c54c6e35  You, sir, are my hero. Any chance you remember...      0   \n",
       "\n",
       "   severe_toxic  obscene  threat  insult  identity_hate  \n",
       "0             0        0       0       0              0  \n",
       "1             0        0       0       0              0  \n",
       "2             0        0       0       0              0  \n",
       "3             0        0       0       0              0  \n",
       "4             0        0       0       0              0  "
      ]
     },
<<<<<<< HEAD
     "execution_count": 2,
=======
     "execution_count": 69,
>>>>>>> 8c26b1fabf15859590ac2a121da0373106672d8b
     "metadata": {},
     "output_type": "execute_result"
    }
   ],
   "source": [
    "import numpy as np\n",
    "import pandas as pd\n",
    "import matplotlib.pyplot as plt\n",
    "%matplotlib inline\n",
    "\n",
<<<<<<< HEAD
    "data = pd.read_csv('C:/Users/DENVER/Udacity/machine-learning\\projects/toxic-comment-classification/train.csv')#load the dataset\n",
    "test_data = pd.read_csv('C:/Users/DENVER/Downloads/test.csv/test.csv')\n",
=======
    "data = pd.read_csv('C:/Users/DENVER/Udacity/machine-learning\\projects/toxic-comment-classification/train.csv') #load the dataset\n",
>>>>>>> 8c26b1fabf15859590ac2a121da0373106672d8b
    "data.head() # have a look at the data\n"
   ]
  },
  {
   "cell_type": "code",
<<<<<<< HEAD
   "execution_count": 3,
   "metadata": {
    "scrolled": true
   },
=======
   "execution_count": 71,
   "metadata": {},
>>>>>>> 8c26b1fabf15859590ac2a121da0373106672d8b
   "outputs": [
    {
     "data": {
      "text/plain": [
       "id               False\n",
       "comment_text     False\n",
       "toxic            False\n",
       "severe_toxic     False\n",
       "obscene          False\n",
       "threat           False\n",
       "insult           False\n",
       "identity_hate    False\n",
       "dtype: bool"
      ]
     },
<<<<<<< HEAD
     "execution_count": 3,
=======
     "execution_count": 71,
>>>>>>> 8c26b1fabf15859590ac2a121da0373106672d8b
     "metadata": {},
     "output_type": "execute_result"
    }
   ],
   "source": [
    "data.isnull().any() # check for empty entries"
   ]
  },
  {
   "cell_type": "code",
<<<<<<< HEAD
   "execution_count": 5,
   "metadata": {
    "collapsed": true
   },
=======
   "execution_count": 72,
   "metadata": {},
>>>>>>> 8c26b1fabf15859590ac2a121da0373106672d8b
   "outputs": [],
   "source": [
    "from sklearn.model_selection import train_test_split\n",
    "\n",
    "# split data into training and testing sets\n",
    "comments_train, comments_test, labels_train, labels_test = train_test_split(data['comment_text'],\\\n",
    "                data[['toxic','severe_toxic', 'obscene', 'threat', 'insult', 'identity_hate']], test_size=0.25, random_state=42)\n",
    "\n"
   ]
  },
  {
   "cell_type": "code",
<<<<<<< HEAD
   "execution_count": 62,
   "metadata": {},
   "outputs": [
    {
     "data": {
      "text/plain": [
       "<keras.preprocessing.text.Tokenizer at 0x25588aaf240>"
      ]
     },
     "execution_count": 62,
     "metadata": {},
     "output_type": "execute_result"
    }
   ],
=======
   "execution_count": 81,
   "metadata": {},
   "outputs": [],
>>>>>>> 8c26b1fabf15859590ac2a121da0373106672d8b
   "source": [
    "# import keras library for preprocessing\n",
    "\n",
    "from keras.preprocessing.text import Tokenizer\n",
    "from keras.preprocessing.sequence import pad_sequences\n",
    "\n",
    "# turn sentences into bag of wards\n",
<<<<<<< HEAD
    "max_words = 5000  # maximum number of common wards to be considered\n",
    "tokenizer = Tokenizer(num_words=max_words)\n",
    "tokenizer.fit_on_texts(comments_train) # fit tokenizer on train data\n",
    "\n",
=======
    "max_words = 25000  # maximum number of common wards to be considered\n",
    "tokenizer = Tokenizer(num_words=max_words)\n",
    "tokenizer.fit_on_texts(comments_train) # fit tokenizer on train data\n",
>>>>>>> 8c26b1fabf15859590ac2a121da0373106672d8b
    "\n"
   ]
  },
  {
   "cell_type": "code",
<<<<<<< HEAD
   "execution_count": 9,
=======
   "execution_count": 89,
>>>>>>> 8c26b1fabf15859590ac2a121da0373106672d8b
   "metadata": {
    "collapsed": true
   },
   "outputs": [],
   "source": [
    "\n",
    "# turn senteces into sequences \n",
    "tokenized_comments_train = tokenizer.texts_to_sequences(comments_train)\n",
<<<<<<< HEAD
    "tokenized_comments_test = tokenizer.texts_to_sequences(comments_test)\n",
    "tokenized_test_data = tokenizer.texts_to_sequences(test_data['comment_text'])"
=======
    "tokenized_comments_test = tokenizer.texts_to_sequences(comments_test)"
>>>>>>> 8c26b1fabf15859590ac2a121da0373106672d8b
   ]
  },
  {
   "cell_type": "code",
<<<<<<< HEAD
   "execution_count": 10,
=======
   "execution_count": 90,
>>>>>>> 8c26b1fabf15859590ac2a121da0373106672d8b
   "metadata": {},
   "outputs": [
    {
     "data": {
<<<<<<< HEAD
      "image/png": "iVBORw0KGgoAAAANSUhEUgAAAZUAAAEKCAYAAADaa8itAAAABHNCSVQICAgIfAhkiAAAAAlwSFlz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\nMCYVSdJgTCqSpMGYVCRJgzGpSJIG8/8BGDifqQ3ASrkAAAAASUVORK5CYII=\n",
      "text/plain": [
       "<matplotlib.figure.Figure at 0x25588ac74e0>"
=======
      "image/png": "iVBORw0KGgoAAAANSUhEUgAAAZUAAAEKCAYAAADaa8itAAAABHNCSVQICAgIfAhkiAAAAAlwSFlz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\nRZI0GJOKJGkwJhVJ0mD+P3H5m9slmpZ3AAAAAElFTkSuQmCC\n",
      "text/plain": [
       "<matplotlib.figure.Figure at 0x22e6435d128>"
>>>>>>> 8c26b1fabf15859590ac2a121da0373106672d8b
      ]
     },
     "metadata": {},
     "output_type": "display_data"
    }
   ],
   "source": [
<<<<<<< HEAD
    "# visualize data\n",
=======
>>>>>>> 8c26b1fabf15859590ac2a121da0373106672d8b
    "senteces_length = [len(comment) for comment in tokenized_comments_train]\n",
    "\n",
    "plt.hist(senteces_length, bins=np.arange(0, 400, 25))\n",
    "plt.ylabel('Number of comments')\n",
    "plt.xlabel('Number of words')\n",
    "plt.show()"
   ]
  },
  {
   "cell_type": "code",
<<<<<<< HEAD
   "execution_count": 11,
   "metadata": {
    "collapsed": true
   },
   "outputs": [],
   "source": [
    "# turn senteces to the same lenght(maxlen)\n",
    "comments_length = 150\n",
    "comments_train = pad_sequences(tokenized_comments_train, maxlen=comments_length )\n",
    "comments_test = pad_sequences(tokenized_comments_test, maxlen=comments_length)\n",
    "pad_test_data = pad_sequences(tokenized_test_data, maxlen=comments_length)\n"
   ]
  },
  {
   "cell_type": "code",
   "execution_count": 13,
   "metadata": {},
   "outputs": [
    {
     "name": "stdout",
     "output_type": "stream",
     "text": [
      "_________________________________________________________________\n",
      "Layer (type)                 Output Shape              Param #   \n",
      "=================================================================\n",
      "embedding_2 (Embedding)      (None, 150, 100)          500000    \n",
      "_________________________________________________________________\n",
      "conv1d_3 (Conv1D)            (None, 150, 10)           2010      \n",
      "_________________________________________________________________\n",
      "max_pooling1d_3 (MaxPooling1 (None, 75, 10)            0         \n",
      "_________________________________________________________________\n",
      "conv1d_4 (Conv1D)            (None, 75, 20)            420       \n",
      "_________________________________________________________________\n",
      "max_pooling1d_4 (MaxPooling1 (None, 37, 20)            0         \n",
      "_________________________________________________________________\n",
      "global_average_pooling1d_2 ( (None, 20)                0         \n",
      "_________________________________________________________________\n",
      "dropout_2 (Dropout)          (None, 20)                0         \n",
      "_________________________________________________________________\n",
      "dense_1 (Dense)              (None, 60)                1260      \n",
      "_________________________________________________________________\n",
      "dropout_3 (Dropout)          (None, 60)                0         \n",
      "_________________________________________________________________\n",
      "dense_2 (Dense)              (None, 6)                 366       \n",
      "=================================================================\n",
      "Total params: 504,056\n",
      "Trainable params: 504,056\n",
      "Non-trainable params: 0\n",
      "_________________________________________________________________\n"
     ]
    }
   ],
   "source": [
    "# import keras library for architecture\n",
    "from keras.layers import Embedding, Conv1D, MaxPooling1D, GlobalAveragePooling1D\n",
    "from keras.layers import Dense, Dropout\n",
    "from keras.models import Sequential\n",
    "\n",
    "model = Sequential()\n",
    "#add embedding layer where max_words is vocabulary size, 150 is length of vectors and 100 is output dimension\n",
    "model.add(Embedding(max_words, 100, input_length=150))\n",
    "model.add(Conv1D(filters=10, kernel_size=2, padding='same', activation='relu'))\n",
    "model.add(MaxPooling1D(pool_size=2))\n",
    "model.add(Conv1D(filters=20, kernel_size=2, padding='same', activation='relu'))\n",
    "model.add(MaxPooling1D(pool_size=2))\n",
    "model.add(GlobalAveragePooling1D())\n",
    "model.add(Dropout(0.2))\n",
    "model.add(Dense(60, activation='relu'))\n",
    "model.add(Dropout(0.2))\n",
    "model.add(Dense(6, activation='softmax'))\n",
    "\n",
    "model.summary()"
   ]
  },
  {
   "cell_type": "code",
   "execution_count": 50,
   "metadata": {
    "collapsed": true
   },
   "outputs": [],
   "source": [
    "model.compile(optimizer='Adagrad', loss='categorical_crossentropy',  metrics=['categorical_accuracy'])"
   ]
  },
  {
   "cell_type": "code",
   "execution_count": 51,
   "metadata": {},
   "outputs": [
    {
     "name": "stdout",
     "output_type": "stream",
     "text": [
      "Train on 107710 samples, validate on 11968 samples\n",
      "Epoch 1/5\n",
      "107710/107710 [==============================] - 74s 684us/step - loss: 0.2791 - categorical_accuracy: 0.9714 - val_loss: 0.3107 - val_categorical_accuracy: 0.9770\n",
      "Epoch 2/5\n",
      "107710/107710 [==============================] - 74s 686us/step - loss: 0.2750 - categorical_accuracy: 0.9639 - val_loss: 0.3094 - val_categorical_accuracy: 0.9591\n",
      "Epoch 3/5\n",
      "107710/107710 [==============================] - 73s 675us/step - loss: 0.2728 - categorical_accuracy: 0.9583 - val_loss: 0.3098 - val_categorical_accuracy: 0.9697\n",
      "Epoch 4/5\n",
      "107710/107710 [==============================] - 76s 705us/step - loss: 0.2716 - categorical_accuracy: 0.9609 - val_loss: 0.3129 - val_categorical_accuracy: 0.9596\n",
      "Epoch 5/5\n",
      "107710/107710 [==============================] - 73s 678us/step - loss: 0.2706 - categorical_accuracy: 0.9564 - val_loss: 0.3114 - val_categorical_accuracy: 0.9619\n"
     ]
    },
    {
     "data": {
      "text/plain": [
       "<keras.callbacks.History at 0x255abc26b70>"
      ]
     },
     "execution_count": 51,
     "metadata": {},
     "output_type": "execute_result"
    }
   ],
   "source": [
    "from keras.callbacks import ModelCheckpoint\n",
    "\n",
    "# Use model chackpointing to save the model that attains the best validation loss\n",
    "chackpointer = ModelCheckpoint(filepath='weights.best.h5py')\n",
    "\n",
    "model.fit(comments_train, labels_train, validation_split=0.1,\\\n",
    "          epochs=5, batch_size=50, callbacks=[chackpointer], verbose=1)"
   ]
  },
  {
   "cell_type": "code",
   "execution_count": 52,
   "metadata": {
    "collapsed": true
   },
   "outputs": [],
   "source": [
    "model.load_weights('weights.best.h5py')"
   ]
  },
  {
   "cell_type": "code",
   "execution_count": 53,
   "metadata": {},
   "outputs": [
    {
     "name": "stdout",
     "output_type": "stream",
     "text": [
      "39893/39893 [==============================] - 8s 212us/step\n"
     ]
    },
    {
     "data": {
      "text/plain": [
       "[0.29833658926512607, 0.96332689945903316]"
      ]
     },
     "execution_count": 53,
     "metadata": {},
     "output_type": "execute_result"
    }
   ],
   "source": [
    "scores = model.evaluate(comments_test,labels_test)\n",
    "scores"
   ]
  },
  {
   "cell_type": "code",
   "execution_count": 54,
   "metadata": {
    "collapsed": true
   },
   "outputs": [],
   "source": [
    "predictions = model.predict(comments_test)"
   ]
  },
  {
   "cell_type": "code",
   "execution_count": 55,
   "metadata": {},
   "outputs": [
    {
     "data": {
      "text/plain": [
       "0.72888454437083405"
      ]
     },
     "execution_count": 55,
     "metadata": {},
     "output_type": "execute_result"
    }
   ],
   "source": [
    "from sklearn.metrics import roc_auc_score\n",
    "roc_auc_score(labels_test, predictions)"
   ]
  },
  {
   "cell_type": "code",
   "execution_count": 24,
   "metadata": {
    "collapsed": true
   },
   "outputs": [],
   "source": [
    "pre = model.predict(pad_test_data)"
   ]
  },
  {
   "cell_type": "code",
   "execution_count": 30,
   "metadata": {
    "collapsed": true
   },
   "outputs": [],
   "source": [
    "submission = pd.DataFrame(pre, index=test_data['id'], columns=['toxic', 'severe_toxic',\\\n",
    "                                                               'obscene','threat', 'insult', 'identity_hate'])"
   ]
  },
  {
   "cell_type": "code",
   "execution_count": 31,
   "metadata": {
    "collapsed": true
   },
   "outputs": [],
   "source": [
    "submission.to_csv('submission.csv')"
=======
   "execution_count": 91,
   "metadata": {},
   "outputs": [],
   "source": [
    "# turn senteces to the same lenght(maxlen)\n",
    "comments_train = pad_sequences(tokenized_comments_train, maxlen=150 )\n",
    "comments_test = pad_sequences(tokenized_comments_test, maxlen=150)"
>>>>>>> 8c26b1fabf15859590ac2a121da0373106672d8b
   ]
  },
  {
   "cell_type": "code",
   "execution_count": null,
   "metadata": {
    "collapsed": true
   },
   "outputs": [],
   "source": []
  }
 ],
 "metadata": {
  "kernelspec": {
   "display_name": "Python 3",
   "language": "python",
   "name": "python3"
  },
  "language_info": {
   "codemirror_mode": {
    "name": "ipython",
    "version": 3
   },
   "file_extension": ".py",
   "mimetype": "text/x-python",
   "name": "python",
   "nbconvert_exporter": "python",
   "pygments_lexer": "ipython3",
   "version": "3.6.2"
  }
 },
 "nbformat": 4,
 "nbformat_minor": 2
}
